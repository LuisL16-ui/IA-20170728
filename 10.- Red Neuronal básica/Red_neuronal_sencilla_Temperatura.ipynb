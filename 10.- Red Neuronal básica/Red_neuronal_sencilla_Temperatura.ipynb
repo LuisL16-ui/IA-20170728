{
  "cells": [
    {
      "cell_type": "markdown",
      "metadata": {
        "id": "JK5RGzIrbd9c"
      },
      "source": [
        "#  Curso de Introducción a la Inteligencia Artificial y los algoritmos\n",
        "\n",
        "\n",
        "---\n",
        "\n",
        "\n",
        "*Red neuronal con Python*"
      ]
    },
    {
      "cell_type": "markdown",
      "metadata": {
        "id": "V_tq9YCwskND"
      },
      "source": [
        "Utilizamos Google colab, un entorno de desarrollo desarrollado por Google. Creamos una libreta con extensión .ipynb.  Un archivo IPYNB es un documento de cuaderno utilizado por Jupyter Notebook, un entorno computacional interactivo diseñado para ayudar a los científicos a trabajar con el lenguaje Python y sus datos"
      ]
    },
    {
      "cell_type": "markdown",
      "metadata": {
        "id": "UZ3-gPkjy0Kl"
      },
      "source": [
        "Esta es una sencilla red neuronal. En muchos países se mide la temperatura en grados Celsius. Hay otros países que utilizan los grados Fahrenheit.\n",
        "La fórmula que los relaciona es :  F = C * 1,8 + 32 o bien C = (F - 32)* 5/9.\n",
        "\n",
        "Por tanto, se trata de una fórmula lineal donde tenemos un valor de X que es los grados Celsius, un valor de Y que son los grados fahrenheit, una constante que es 1,8 y un término independiente, 32.\n",
        "\n",
        "Es muy importante conocer los valores los conceptos de PESOS y SESGOS, que utiliza la red para ir ajustando el modelo."
      ]
    },
    {
      "cell_type": "code",
      "execution_count": 4,
      "metadata": {
        "id": "2nfsL9dlWYR6"
      },
      "outputs": [],
      "source": [
        "# Importamos a nuestra libreta de trabajo las librerias a utilizar\n",
        "import tensorflow as tf # libreria para IA desarrollada por google\n",
        "import numpy as np # para trabajar con números"
      ]
    },
    {
      "cell_type": "code",
      "execution_count": 5,
      "metadata": {
        "colab": {
          "base_uri": "https://localhost:8080/"
        },
        "id": "hA9MxFAoXLYm",
        "outputId": "fb5805e2-cebe-4103-d349-7d9c0604a9d7"
      },
      "outputs": [
        {
          "name": "stdout",
          "output_type": "stream",
          "text": [
            "[-40. -10.   0.   8.  15.  22.  38.]\n",
            "[-40.  14.  32.  46.  59.  72. 100.]\n"
          ]
        }
      ],
      "source": [
        "#introducimos los datos. Se crea un array, un tipo de dato estructurado que permite almacenar un conjunto de datos homogéneo\n",
        "celsius = np.array([-40, -10, 0, 8, 15, 22, 38], dtype=float) #float son números reales con comas, coma flotante\n",
        "fahrenheit = np.array([-40, 14, 32, 46, 59, 72, 100], dtype=float) #np es numpy python, números en python\n",
        "\n",
        "#estos son los ejemplos que la red usará para aprender. De momento no sabemos cual es la fórmula\n",
        "print(celsius)\n",
        "print(fahrenheit)"
      ]
    },
    {
      "cell_type": "code",
      "execution_count": 8,
      "metadata": {
        "id": "sqWWuWiiXY0B"
      },
      "outputs": [],
      "source": [
        "celsius = np.array([-40, -10, 0, 8, 15, 22, 38], dtype=float)\n",
        "fahrenheit = np.array([-40, 14, 32, 46, 59, 72, 100], dtype=float)"
      ]
    },
    {
      "cell_type": "code",
      "execution_count": 9,
      "metadata": {
        "colab": {
          "base_uri": "https://localhost:8080/"
        },
        "id": "QYkF8089dX1H",
        "outputId": "c46d4db6-794a-4821-dd46-2656f3825e6c"
      },
      "outputs": [
        {
          "name": "stdout",
          "output_type": "stream",
          "text": [
            "<Dense name=dense_1, built=False>\n",
            "<Sequential name=sequential_1, built=True>\n"
          ]
        }
      ],
      "source": [
        "# Modelo de red neuronal con una neurona. Utilizamos el framework Keras. Keras nos permite hacer las redes  neuronales más simples. Puedes especificar las dos capas de entrada\n",
        "# y salida o especificar solo la capa de salida.\n",
        "capa = tf.keras.layers.Dense(units=1, input_shape=[1]) # capas tipo densa, conecta todas las neuronas entre si aunque en este caso solo hay dos neuronas, units=unidades o neuronas\n",
        "#input_shape estamos diciendo que se trata de una capa de entrada con una neurona\n",
        "print(capa)\n",
        "\n",
        "#Modelo secuencial\n",
        "modelo = tf.keras.Sequential([capa]) # creamos un modelo secuencial, aunque hay de varios tipos. Le indicamos la capa que acabamos de crear\n",
        "print(modelo)"
      ]
    },
    {
      "cell_type": "code",
      "execution_count": 10,
      "metadata": {
        "id": "ttLWYdkWej58"
      },
      "outputs": [],
      "source": [
        "# COMPILAMOS EL MODELO. Se prepara el modelo para ser entrenado. Se utilizan dos propiedades: optimizador y función de pérdida.\n",
        "# Optimizador utilizamos el algoritmo de Adams, puedes ver que es en una búsqueda , permite a la red saber como ajustar PESOS y SESGOS para ir mejorando\n",
        "modelo.compile(\n",
        "    optimizer=tf.keras.optimizers.Adam(0.1), # \"0.1\" es la tasa de aprendizaje, si es muy pequeño los ajusta poco a poco, si es muy grande puede tardar mucho\n",
        "    loss='mean_squared_error' # es la función de pérdida, que utilizamos el error cuadrático medio\n",
        ")"
      ]
    },
    {
      "cell_type": "code",
      "execution_count": 11,
      "metadata": {
        "colab": {
          "base_uri": "https://localhost:8080/"
        },
        "id": "wrOwHgDYk8Hr",
        "outputId": "b17d30b2-4d25-4cd9-f227-326863248489"
      },
      "outputs": [
        {
          "name": "stdout",
          "output_type": "stream",
          "text": [
            "Comenzando entrenamiento...\n",
            "Modelo entrenado!\n"
          ]
        }
      ],
      "source": [
        "# ENTRENAMIENTO DEL MODELO. Se utiliza la función fit, ajuste,\n",
        "print(\"Comenzando entrenamiento...\")\n",
        "historial = modelo.fit(celsius, fahrenheit, epochs=1000, verbose=False) #epochs es las vueltas que da el algoritmo, recordamos que tenemos 7 datos, 1 vuelta serían usarlos una vez\n",
        "print(\"Modelo entrenado!\")\n",
        "\n",
        "#tenemos que dar muchas vueltas para que optimice lo más posible, se usa el valor 1000 para revisar, aunque se puede cambiar posteriormente\n"
      ]
    },
    {
      "cell_type": "code",
      "execution_count": 19,
      "metadata": {
        "colab": {
          "base_uri": "https://localhost:8080/",
          "height": 468
        },
        "id": "1H-jC2Sjl2et",
        "outputId": "399622b2-c02f-47d6-be29-f0c0d2c9fbe1"
      },
      "outputs": [
        {
          "data": {
            "text/plain": [
              "[<matplotlib.lines.Line2D at 0x1edbfdb7f90>]"
            ]
          },
          "execution_count": 19,
          "metadata": {},
          "output_type": "execute_result"
        },
        {
          "data": {
            "image/png": "[encoded data removed]",
            "text/plain": [
              "<Figure size 640x480 with 1 Axes>"
            ]
          },
          "metadata": {},
          "output_type": "display_data"
        }
      ],
      "source": [
        "# RESULTADO DE LA FUNCIÓN DE PÉRDIDA. Nos informa como de mal están los resultados en cada vuelta\n",
        "import matplotlib.pyplot as plt # se importa la libreria matplot para hacer las gráficas\n",
        "plt.xlabel(\"# Vuelta dada\")\n",
        "plt.ylabel(\"Magnitud de pérdida\")\n",
        "plt.plot(historial.history[\"loss\"])\n"
      ]
    },
    {
      "cell_type": "markdown",
      "metadata": {
        "id": "rrf4ITyemxkO"
      },
      "source": [
        "Como dimos mil vueltas esas mil vueltas podemos ver que conforme fue haciendo más vueltas cada vez los errores van disminuyendo en realidad por lo que podemos ver no necesitamos mil vueltas a partir de 500"
      ]
    },
    {
      "cell_type": "code",
      "execution_count": 21,
      "metadata": {
        "colab": {
          "base_uri": "https://localhost:8080/"
        },
        "id": "GPL6z1Vym-yo",
        "outputId": "fe7886c9-55dc-4114-98d9-13274131cc2e"
      },
      "outputs": [
        {
          "name": "stdout",
          "output_type": "stream",
          "text": [
            "Hagamos una predicción!\n",
            "\u001b[1m1/1\u001b[0m \u001b[32m━━━━━━━━━━━━━━━━━━━━\u001b[0m\u001b[37m\u001b[0m \u001b[1m0s\u001b[0m 77ms/step\n",
            "El resultado es [[211.74347]] fahrenheit!\n"
          ]
        }
      ],
      "source": [
        "# PREDICCIÓN DEL MODELO\n",
        "print(\"Hagamos una predicción!\")\n",
        "import numpy as np\n",
        "resultado = modelo.predict(np.array([100.0]))\n",
        "print(\"El resultado es \" + str(resultado) + \" fahrenheit!\")"
      ]
    },
    {
      "cell_type": "code",
      "execution_count": 22,
      "metadata": {
        "colab": {
          "base_uri": "https://localhost:8080/"
        },
        "id": "lVgArIlonWC4",
        "outputId": "ae5de7c2-eb56-4b29-fa56-c09af093db6c"
      },
      "outputs": [
        {
          "name": "stdout",
          "output_type": "stream",
          "text": [
            "Variables internas del modelo\n",
            "[array([[1.7981764]], dtype=float32), array([31.925823], dtype=float32)]\n"
          ]
        }
      ],
      "source": [
        "# MOSTRANDO LAS VARIABLES INTERNAS DEL MODELO, DE NUESTRA RED NEURONAL\n",
        "\n",
        "print(\"Variables internas del modelo\")\n",
        "print(capa.get_weights()) # En el primer array el valor es de 1.7984154 (la fórmula es 1,8), sería el PESO y el segundo array es 31.89878 (el SESGO), buscábamos 32"
      ]
    },
    {
      "cell_type": "markdown",
      "metadata": {
        "id": "-Dmx96AYoWVZ"
      },
      "source": [
        "Por tanto, hemos introduccido 100, que es multiplicado por 1.7984154 y después se le suma 31.89878, es decir 100*1,7984154+31.89878 = **211.74**.\n",
        "# Entrada ha sido 100 y salida ha sido 211.74.\n",
        "La red neuronal sin haberle dicho la fórmula ha conseguido un resultado prácticamente igual al de la fórmula original."
      ]
    },
    {
      "cell_type": "code",
      "execution_count": 23,
      "metadata": {
        "id": "Wzt-OiS4oxND"
      },
      "outputs": [
        {
          "name": "stderr",
          "output_type": "stream",
          "text": [
            "c:\\Users\\Luis Lopez\\AppData\\Local\\Programs\\Python\\Python311\\Lib\\site-packages\\keras\\src\\layers\\core\\dense.py:87: UserWarning: Do not pass an `input_shape`/`input_dim` argument to a layer. When using Sequential models, prefer using an `Input(shape)` object as the first layer in the model instead.\n",
            "  super().__init__(activity_regularizer=activity_regularizer, **kwargs)\n"
          ]
        }
      ],
      "source": [
        "# Agregamos más capas y más neuronas a la red. Agregamos 2 capas intermedias (ocultas) con 3 neuronas y hacemos el mismo proceso\n",
        "#capa = tf.keras.layers.Dense(units=1, input_shape=[1])\n",
        "#modelo = tf.keras.Sequential([capa])\n",
        "\n",
        "oculta1 = tf.keras.layers.Dense(units=3, input_shape=[1])\n",
        "oculta2 = tf.keras.layers.Dense(units=3)\n",
        "salida = tf.keras.layers.Dense(units=1)\n",
        "modelo = tf.keras.Sequential([oculta1, oculta2, salida])"
      ]
    },
    {
      "cell_type": "code",
      "execution_count": 24,
      "metadata": {
        "id": "wqIx5g-nsW42"
      },
      "outputs": [],
      "source": [
        "modelo.compile(\n",
        "    optimizer=tf.keras.optimizers.Adam(0.1),\n",
        "    loss='mean_squared_error'\n",
        ")"
      ]
    },
    {
      "cell_type": "code",
      "execution_count": 25,
      "metadata": {
        "colab": {
          "base_uri": "https://localhost:8080/"
        },
        "id": "iY3HlBBKsflH",
        "outputId": "31dc12d8-3f01-4b6e-c8de-a6c8711eca64"
      },
      "outputs": [
        {
          "name": "stdout",
          "output_type": "stream",
          "text": [
            "Comenzando entrenamiento...\n",
            "Modelo entrenado!\n"
          ]
        }
      ],
      "source": [
        "print(\"Comenzando entrenamiento...\")\n",
        "historial = modelo.fit(celsius, fahrenheit, epochs=1000, verbose=False)\n",
        "print(\"Modelo entrenado!\")"
      ]
    },
    {
      "cell_type": "code",
      "execution_count": 26,
      "metadata": {
        "id": "6fv2Hzsfsmx1"
      },
      "outputs": [
        {
          "data": {
            "text/plain": [
              "[<matplotlib.lines.Line2D at 0x1edbb0b8c10>]"
            ]
          },
          "execution_count": 26,
          "metadata": {},
          "output_type": "execute_result"
        },
        {
          "data": {
            "image/png": "[encoded data removed]",
            "text/plain": [
              "<Figure size 640x480 with 1 Axes>"
            ]
          },
          "metadata": {},
          "output_type": "display_data"
        }
      ],
      "source": [
        "import matplotlib.pyplot as plt\n",
        "plt.xlabel(\"# Epoca\")\n",
        "plt.ylabel(\"Magnitud de pérdida\")\n",
        "plt.plot(historial.history[\"loss\"])"
      ]
    },
    {
      "cell_type": "code",
      "execution_count": 28,
      "metadata": {
        "id": "ewF33wC2s2f_"
      },
      "outputs": [
        {
          "name": "stdout",
          "output_type": "stream",
          "text": [
            "Hagamos una predicción!\n",
            "\u001b[1m1/1\u001b[0m \u001b[32m━━━━━━━━━━━━━━━━━━━━\u001b[0m\u001b[37m\u001b[0m \u001b[1m0s\u001b[0m 79ms/step\n",
            "El resultado es [[211.74742]] fahrenheit!\n"
          ]
        }
      ],
      "source": [
        "print(\"Hagamos una predicción!\")\n",
        "resultado = modelo.predict(np.array([100.0]))\n",
        "print(\"El resultado es \" + str(resultado) + \" fahrenheit!\")"
      ]
    },
    {
      "cell_type": "code",
      "execution_count": 29,
      "metadata": {
        "id": "3nS72tZgs6SR"
      },
      "outputs": [
        {
          "name": "stdout",
          "output_type": "stream",
          "text": [
            "Variables internas del modelo\n",
            "[array([[ 0.24220093, -0.1530794 , -0.6033125 ]], dtype=float32), array([ 4.366747 , -3.5003355, -4.468313 ], dtype=float32)]\n",
            "[array([[ 0.15010561, -0.32631025,  1.1537346 ],\n",
            "       [ 0.47394025, -0.33471647, -0.80615205],\n",
            "       [ 0.8096344 , -0.5941234 , -1.2250876 ]], dtype=float32), array([-4.4019237,  3.4072814,  3.8376145], dtype=float32)]\n",
            "[array([[-0.62212145],\n",
            "       [ 0.3605241 ],\n",
            "       [ 1.1842376 ]], dtype=float32), array([3.9096723], dtype=float32)]\n"
          ]
        }
      ],
      "source": [
        "print(\"Variables internas del modelo\")\n",
        "#print(capa.get_weights())\n",
        "print(oculta1.get_weights())\n",
        "print(oculta2.get_weights())\n",
        "print(salida.get_weights())"
      ]
    }
  ],
  "metadata": {
    "colab": {
      "provenance": []
    },
    "kernelspec": {
      "display_name": "Python 3",
      "name": "python3"
    },
    "language_info": {
      "codemirror_mode": {
        "name": "ipython",
        "version": 3
      },
      "file_extension": ".py",
      "mimetype": "text/x-python",
      "name": "python",
      "nbconvert_exporter": "python",
      "pygments_lexer": "ipython3",
      "version": "3.11.0"
    }
  },
  "nbformat": 4,
  "nbformat_minor": 0
}
